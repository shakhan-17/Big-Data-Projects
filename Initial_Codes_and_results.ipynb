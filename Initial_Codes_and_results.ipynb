{
  "nbformat": 4,
  "nbformat_minor": 0,
  "metadata": {
    "colab": {
      "provenance": [],
      "authorship_tag": "ABX9TyNQuwsMP0idNnUAX/1h+GUo",
      "include_colab_link": true
    },
    "kernelspec": {
      "name": "python3",
      "display_name": "Python 3"
    },
    "language_info": {
      "name": "python"
    }
  },
  "cells": [
    {
      "cell_type": "markdown",
      "metadata": {
        "id": "view-in-github",
        "colab_type": "text"
      },
      "source": [
        "<a href=\"https://colab.research.google.com/github/shakhan-17/Big-Data-Projects/blob/main/Initial_Codes_and_results.ipynb\" target=\"_parent\"><img src=\"https://colab.research.google.com/assets/colab-badge.svg\" alt=\"Open In Colab\"/></a>"
      ]
    },
    {
      "cell_type": "markdown",
      "source": [
        "##**PROJECT TITLE:** A COMPREHENSIVE APPROACH TO ADDRESS THE COLD START PROBLEM IN RECOMMENDER SYSTEMS"
      ],
      "metadata": {
        "id": "Q_Z_boL3Tpe6"
      }
    },
    {
      "cell_type": "markdown",
      "source": [
        "**Initial Results and Code**\n",
        "\n",
        "**Submitted by:** Md Shamsul Arif Khan\n",
        "\n",
        "**Student ID:** 501140715\n"
      ],
      "metadata": {
        "id": "MpvUPPXLSX6r"
      }
    },
    {
      "cell_type": "markdown",
      "source": [
        "**Supervisor Name:** Ceni Babaoglu\n",
        "\n",
        "**Course Code:** CIND820"
      ],
      "metadata": {
        "id": "kqOHT09TS_Bm"
      }
    },
    {
      "cell_type": "markdown",
      "source": [
        "**Date of Submission:** November 15, 2023"
      ],
      "metadata": {
        "id": "iD1tKHrxT3Hw"
      }
    },
    {
      "cell_type": "markdown",
      "source": [
        "**Importing necessary libraries and tools**"
      ],
      "metadata": {
        "id": "Gu_d--iVQgYa"
      }
    },
    {
      "cell_type": "code",
      "execution_count": 12,
      "metadata": {
        "id": "z672yJaDNPmx"
      },
      "outputs": [],
      "source": [
        "import pandas as pd\n",
        "import numpy as np\n",
        "from zipfile import ZipFile\n",
        "import urllib.request\n",
        "import os\n",
        "from sklearn.model_selection import train_test_split\n",
        "from sklearn.metrics.pairwise import cosine_similarity\n",
        "from scipy.sparse.linalg import svds\n",
        "from scipy.sparse import csr_matrix\n",
        "from sklearn.feature_extraction.text import TfidfVectorizer"
      ]
    },
    {
      "cell_type": "markdown",
      "source": [
        "**Loading the datasets**"
      ],
      "metadata": {
        "id": "EBkYi1dUQzwc"
      }
    },
    {
      "cell_type": "code",
      "source": [
        "# Link for the MovieLens small dataset\n",
        "url = 'http://files.grouplens.org/datasets/movielens/ml-latest-small.zip'\n",
        "file_name = 'movielens_small.zip'\n",
        "\n",
        "# Download and extract datasets\n",
        "if not os.path.exists(file_name):\n",
        "    urllib.request.urlretrieve(url, file_name)\n",
        "    with ZipFile(file_name, 'r') as zip_ref:\n",
        "        zip_ref.extractall()\n",
        "\n",
        "# Load datasets into Pandas DataFrames\n",
        "movies = pd.read_csv('ml-latest-small/movies.csv')\n",
        "ratings = pd.read_csv('ml-latest-small/ratings.csv')\n",
        "tags = pd.read_csv('ml-latest-small/tags.csv')\n",
        "links = pd.read_csv('ml-latest-small/links.csv')"
      ],
      "metadata": {
        "id": "QEloxQG4Qs5b"
      },
      "execution_count": 13,
      "outputs": []
    },
    {
      "cell_type": "markdown",
      "source": [
        "**Processing the Datasets**"
      ],
      "metadata": {
        "id": "2ocI1visRMga"
      }
    },
    {
      "cell_type": "code",
      "source": [
        "# Merge tags into movies DataFrame\n",
        "movies = pd.merge(movies, tags, on='movieId', how='left')\n",
        "\n",
        "# Merge links with movies DataFrame\n",
        "movies = pd.merge(movies, links, on='movieId', how='left')\n",
        "\n",
        "# Clean NaN values in tags, genres, and IMDbId columns\n",
        "movies['tag'] = movies['tag'].fillna('')\n",
        "movies['genres'] = movies['genres'].str.replace('|', ' ')\n",
        "\n",
        "# Combine relevant information for movie features\n",
        "movies['features'] = movies['genres'] + ' ' + movies['tag']\n",
        "\n",
        "# Split data into training and test sets for collaborative filtering\n",
        "train_data, test_data = train_test_split(ratings, test_size=0.2, random_state=42)\n",
        "\n",
        "# Create a user-item matrix for collaborative filtering\n",
        "train_user_item_matrix = train_data.pivot_table(index='userId', columns='movieId', values='rating').fillna(0)\n",
        "\n",
        "# Convert the DataFrame into a sparse matrix\n",
        "train_user_item_matrix_sparse = csr_matrix(train_user_item_matrix.values)"
      ],
      "metadata": {
        "colab": {
          "base_uri": "https://localhost:8080/"
        },
        "id": "3iEPxzfsRLlz",
        "outputId": "a3647101-87a9-4616-99e5-fd5d989fc1d1"
      },
      "execution_count": 14,
      "outputs": [
        {
          "output_type": "stream",
          "name": "stderr",
          "text": [
            "<ipython-input-14-ad8a685afb9f>:9: FutureWarning: The default value of regex will change from True to False in a future version. In addition, single character regular expressions will *not* be treated as literal strings when regex=True.\n",
            "  movies['genres'] = movies['genres'].str.replace('|', ' ')\n"
          ]
        }
      ]
    },
    {
      "cell_type": "markdown",
      "source": [
        "**Building recommender system using Collaborative Filtering method**"
      ],
      "metadata": {
        "id": "ItPWHQPZRWlQ"
      }
    },
    {
      "cell_type": "code",
      "source": [
        "# Collaborative filtering using matrix factorization (SVD)\n",
        "num_factors = 50\n",
        "U, sigma, Vt = svds(train_user_item_matrix_sparse, k=num_factors)\n",
        "sigma = np.diag(sigma)\n",
        "predicted_ratings = np.dot(np.dot(U, sigma), Vt)"
      ],
      "metadata": {
        "id": "HUH8Xhv_OYW2"
      },
      "execution_count": 15,
      "outputs": []
    },
    {
      "cell_type": "code",
      "source": [
        "# Function to recommend movies based on collaborative filtering\n",
        "def collaborative_filtering_recommendations(user_id, predicted_ratings, num_recommendations=10):\n",
        "    user_ratings = predicted_ratings[user_id - 1]\n",
        "    sorted_indices = user_ratings.argsort()[::-1]\n",
        "    user_seen_movies = train_user_item_matrix.columns[train_user_item_matrix.loc[user_id].gt(0)].tolist()\n",
        "\n",
        "    recommended_movies = []\n",
        "    for idx in sorted_indices:\n",
        "        movie_id = idx + 1\n",
        "        if movie_id not in user_seen_movies:\n",
        "            movie_info = movies[movies['movieId'] == movie_id]['title'].values\n",
        "            if len(movie_info) > 0:\n",
        "                movie_title = movie_info[0]\n",
        "                recommended_movies.append((movie_title, user_ratings[idx]))\n",
        "                if len(recommended_movies) >= num_recommendations:\n",
        "                    break\n",
        "\n",
        "    return recommended_movies"
      ],
      "metadata": {
        "id": "28aSVEHDOebK"
      },
      "execution_count": 16,
      "outputs": []
    },
    {
      "cell_type": "code",
      "source": [
        "# Collaborative Filtering Example\n",
        "user_id_collab = 1\n",
        "collab_recommended_movies = collaborative_filtering_recommendations(user_id_collab, predicted_ratings)\n",
        "print(f\"Collaborative Filtering Recommendations for User {user_id_collab}:\")\n",
        "for idx, (movie, rating) in enumerate(collab_recommended_movies, start=1):\n",
        "    print(f\"{idx}. {movie} (Predicted Rating: {rating})\")\n"
      ],
      "metadata": {
        "colab": {
          "base_uri": "https://localhost:8080/"
        },
        "id": "BzYbRYOKP0XF",
        "outputId": "a9f5f933-b2fd-4854-85c6-07470b3e9189"
      },
      "execution_count": 17,
      "outputs": [
        {
          "output_type": "stream",
          "name": "stdout",
          "text": [
            "Collaborative Filtering Recommendations for User 1:\n",
            "1. That Darn Cat (1997) (Predicted Rating: 5.01591322704692)\n",
            "2. Muppet Christmas Carol, The (1992) (Predicted Rating: 4.870666524016698)\n",
            "3. Perfect World, A (1993) (Predicted Rating: 4.757768102863207)\n",
            "4. Fear and Loathing in Las Vegas (1998) (Predicted Rating: 4.679545505282505)\n",
            "5. Inspector General, The (1949) (Predicted Rating: 4.659823207461206)\n",
            "6. Interview with the Vampire: The Vampire Chronicles (1994) (Predicted Rating: 4.458921745949995)\n",
            "7. Wild Reeds (Les roseaux sauvages) (1994) (Predicted Rating: 4.231743713145623)\n",
            "8. 8 Seconds (1994) (Predicted Rating: 3.9725433638125853)\n",
            "9. American Buffalo (1996) (Predicted Rating: 3.953739073507597)\n",
            "10. Crow: City of Angels, The (1996) (Predicted Rating: 3.6317791961621615)\n"
          ]
        }
      ]
    },
    {
      "cell_type": "markdown",
      "source": [
        "**Building recommender system using Content-based Filtering method**"
      ],
      "metadata": {
        "id": "HkAHn_yBR75g"
      }
    },
    {
      "cell_type": "code",
      "source": [
        "# Compute the similarity matrix using cosine similarity for content-based filtering\n",
        "tfidf = TfidfVectorizer(stop_words='english')\n",
        "tfidf_matrix = tfidf.fit_transform(movies['features'].values.astype('U'))\n",
        "item_similarity = cosine_similarity(tfidf_matrix, tfidf_matrix)\n",
        "\n",
        "# Function to recommend movies based on content-based filtering\n",
        "def content_based_recommendations(movie_title, similarity_matrix, num_recommendations=10):\n",
        "    movie_index = movies[movies['title'] == movie_title].index.values[0]\n",
        "    similar_scores = similarity_matrix[movie_index]\n",
        "    similar_movies_indices = similar_scores.argsort()[::-1][1:]  # Exclude the movie itself\n",
        "    similar_movies = movies.iloc[similar_movies_indices]\n",
        "    return similar_movies[['title', 'genres', 'imdbId']]\n",
        "\n",
        "\n",
        "# Content-Based Filtering Example\n",
        "movie_title_content = 'Toy Story (1995)'\n",
        "content_recommended_movies = content_based_recommendations(movie_title_content, item_similarity)\n",
        "print(\"\\nContent-Based Filtering Recommendations:\")\n",
        "print(content_recommended_movies.head(10))\n",
        "\n"
      ],
      "metadata": {
        "colab": {
          "base_uri": "https://localhost:8080/"
        },
        "id": "E5FI_bTvPTnb",
        "outputId": "a6cf5a8f-6b3c-4819-a569-30bf21683523"
      },
      "execution_count": 18,
      "outputs": [
        {
          "output_type": "stream",
          "name": "stdout",
          "text": [
            "\n",
            "Content-Based Filtering Recommendations:\n",
            "                                                   title  \\\n",
            "1                                       Toy Story (1995)   \n",
            "3214                                  Toy Story 2 (1999)   \n",
            "3217                                  Toy Story 2 (1999)   \n",
            "2484                                Bug's Life, A (1998)   \n",
            "8672                                           Up (2009)   \n",
            "4633                               Monsters, Inc. (2001)   \n",
            "11499                                       Moana (2016)   \n",
            "3966                    Emperor's New Groove, The (2000)   \n",
            "9544   Asterix and the Vikings (Astérix et les Viking...   \n",
            "10948                           The Good Dinosaur (2015)   \n",
            "\n",
            "                                            genres   imdbId  \n",
            "1      Adventure Animation Children Comedy Fantasy   114709  \n",
            "3214   Adventure Animation Children Comedy Fantasy   120363  \n",
            "3217   Adventure Animation Children Comedy Fantasy   120363  \n",
            "2484           Adventure Animation Children Comedy   120623  \n",
            "8672            Adventure Animation Children Drama  1049413  \n",
            "4633   Adventure Animation Children Comedy Fantasy   198781  \n",
            "11499  Adventure Animation Children Comedy Fantasy  3521164  \n",
            "3966   Adventure Animation Children Comedy Fantasy   120917  \n",
            "9544   Adventure Animation Children Comedy Fantasy   371552  \n",
            "10948  Adventure Animation Children Comedy Fantasy  1979388  \n"
          ]
        }
      ]
    },
    {
      "cell_type": "markdown",
      "source": [
        "**Building recommender system using Hybrid Filtering method**"
      ],
      "metadata": {
        "id": "ZVcgCf0vR_PR"
      }
    },
    {
      "cell_type": "code",
      "source": [
        "# Function for hybrid recommendations combining collaborative and content-based approaches\n",
        "def hybrid_recommendations(user_id, movie_title, num_recommendations=10):\n",
        "    collab_recommended = collaborative_filtering_recommendations(user_id, predicted_ratings)\n",
        "    content_recommended = content_based_recommendations(movie_title, item_similarity)\n",
        "\n",
        "    # Merge recommendations from both models\n",
        "    hybrid_recommendations = []\n",
        "    collab_titles = [title for title, _ in collab_recommended]\n",
        "    for idx, (title, _) in enumerate(collab_recommended):\n",
        "        if title not in collab_titles:\n",
        "            hybrid_recommendations.append((title, idx+1))\n",
        "\n",
        "    content_titles = [title for title in content_recommended['title']]\n",
        "    for idx, (title, _) in enumerate(content_recommended.values):\n",
        "        if title not in content_titles:\n",
        "            hybrid_recommendations.append((title, idx+1))\n",
        "\n",
        "    hybrid_recommendations = sorted(hybrid_recommendations, key=lambda x: x[1])\n",
        "    return [movie[0] for movie in hybrid_recommendations[:num_recommendations]]\n",
        "\n"
      ],
      "metadata": {
        "id": "98cvn0fWOlD7"
      },
      "execution_count": 19,
      "outputs": []
    },
    {
      "cell_type": "code",
      "source": [
        " # Function for hybrid recommendations combining collaborative and content-based approaches\n",
        "def hybrid_recommendations(user_id, movie_title, num_recommendations=10):\n",
        "    collab_recommended = collaborative_filtering_recommendations(user_id, predicted_ratings)\n",
        "    content_recommended = content_based_recommendations(movie_title, item_similarity)\n",
        "\n",
        "    hybrid_recommendations = []\n",
        "    collab_titles = [title for title, _ in collab_recommended]\n",
        "    for idx, (title, _) in enumerate(collab_recommended):\n",
        "        if title not in collab_titles:\n",
        "            hybrid_recommendations.append((title, idx+1))\n",
        "\n",
        "    content_titles = [title for title in content_recommended['title']]\n",
        "    for title in content_titles:\n",
        "        if title not in collab_titles:\n",
        "            hybrid_recommendations.append((title, idx+1))\n",
        "\n",
        "    hybrid_recommendations = sorted(hybrid_recommendations, key=lambda x: x[1])\n",
        "    return [movie[0] for movie in hybrid_recommendations[:num_recommendations]]\n",
        "\n",
        "\n",
        "\n",
        "# Hybrid Filtering Example\n",
        "user_id_hybrid = 1\n",
        "hybrid_recommended_movies = hybrid_recommendations(user_id_hybrid, movie_title_content)\n",
        "print(f\"\\nHybrid Recommendations for User {user_id_hybrid} based on '{movie_title_content}':\")\n",
        "for idx, movie in enumerate(hybrid_recommended_movies, start=1):\n",
        "    print(f\"{idx}. {movie}\")"
      ],
      "metadata": {
        "colab": {
          "base_uri": "https://localhost:8080/"
        },
        "id": "jbQT4oG7QOHn",
        "outputId": "18f5493c-7b3c-4ccf-ccc9-1936db555cb0"
      },
      "execution_count": 20,
      "outputs": [
        {
          "output_type": "stream",
          "name": "stdout",
          "text": [
            "\n",
            "Hybrid Recommendations for User 1 based on 'Toy Story (1995)':\n",
            "1. Toy Story (1995)\n",
            "2. Toy Story 2 (1999)\n",
            "3. Toy Story 2 (1999)\n",
            "4. Bug's Life, A (1998)\n",
            "5. Up (2009)\n",
            "6. Monsters, Inc. (2001)\n",
            "7. Moana (2016)\n",
            "8. Emperor's New Groove, The (2000)\n",
            "9. Asterix and the Vikings (Astérix et les Vikings) (2006)\n",
            "10. The Good Dinosaur (2015)\n"
          ]
        }
      ]
    },
    {
      "cell_type": "markdown",
      "source": [
        "Github link: https://github.com/shakhan-17/Big-Data-Projects/tree/main\n"
      ],
      "metadata": {
        "id": "xj6xThA6X1e5"
      }
    }
  ]
}