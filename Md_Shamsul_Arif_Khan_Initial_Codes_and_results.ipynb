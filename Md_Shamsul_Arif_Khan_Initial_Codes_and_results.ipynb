{
 "cells": [
  {
   "cell_type": "markdown",
   "metadata": {
    "id": "Q_Z_boL3Tpe6"
   },
   "source": [
    "##**PROJECT TITLE:** A COMPREHENSIVE APPROACH TO ADDRESS THE COLD START PROBLEM IN RECOMMENDER SYSTEMS"
   ]
  },
  {
   "cell_type": "markdown",
   "metadata": {
    "id": "MpvUPPXLSX6r"
   },
   "source": [
    "**Initial Results and Code**\n",
    "\n",
    "**Submitted by:** Md Shamsul Arif Khan\n",
    "\n",
    "**Student ID:** 501140715\n"
   ]
  },
  {
   "cell_type": "markdown",
   "metadata": {
    "id": "kqOHT09TS_Bm"
   },
   "source": [
    "**Supervisor Name:** Ceni Babaoglu\n",
    "\n",
    "**Course Code:** CIND820"
   ]
  },
  {
   "cell_type": "markdown",
   "metadata": {
    "id": "iD1tKHrxT3Hw"
   },
   "source": [
    "**Date of Submission:** November 15, 2023"
   ]
  },
  {
   "cell_type": "markdown",
   "metadata": {
    "id": "Gu_d--iVQgYa"
   },
   "source": [
    "**The project will be created on Google Collab. The following libraries and tools will be imported to our Google Collab platform to initiate the project.**"
   ]
  },
  {
   "cell_type": "code",
   "execution_count": 1,
   "metadata": {
    "id": "z672yJaDNPmx"
   },
   "outputs": [],
   "source": [
    "import pandas as pd\n",
    "import numpy as np\n",
    "from zipfile import ZipFile\n",
    "import urllib.request\n",
    "import os\n",
    "from sklearn.model_selection import train_test_split\n",
    "from sklearn.metrics.pairwise import cosine_similarity\n",
    "from scipy.sparse.linalg import svds\n",
    "from scipy.sparse import csr_matrix\n",
    "from sklearn.feature_extraction.text import TfidfVectorizer\n",
    "from sklearn.metrics import mean_squared_error\n"
   ]
  },
  {
   "cell_type": "markdown",
   "metadata": {
    "id": "EBkYi1dUQzwc"
   },
   "source": [
    "**Once the necessary libraries are imported, the datasets will be uploaded to Google Collab and processed to build the recommender systems**"
   ]
  },
  {
   "cell_type": "code",
   "execution_count": 2,
   "metadata": {
    "id": "QEloxQG4Qs5b"
   },
   "outputs": [],
   "source": [
    "# Link for the MovieLens small dataset\n",
    "url = 'http://files.grouplens.org/datasets/movielens/ml-latest-small.zip'\n",
    "file_name = 'movielens_small.zip'\n",
    "\n",
    "# Download and extract datasets and prepare those to upload\n",
    "if not os.path.exists(file_name):\n",
    "    urllib.request.urlretrieve(url, file_name)\n",
    "    with ZipFile(file_name, 'r') as zip_ref:\n",
    "        zip_ref.extractall()\n",
    "\n",
    "# Load datasets into Pandas DataFrames\n",
    "movies = pd.read_csv('ml-latest-small/movies.csv')\n",
    "ratings = pd.read_csv('ml-latest-small/ratings.csv')\n",
    "tags = pd.read_csv('ml-latest-small/tags.csv')\n",
    "links = pd.read_csv('ml-latest-small/links.csv')"
   ]
  },
  {
   "cell_type": "markdown",
   "metadata": {
    "id": "2ocI1visRMga"
   },
   "source": [
    "In the next step, the following code will be used for merging the data, cleaning the combined data, feature engineering, and train-test splitting for model evaluation, creating a user-item matrix for collaborative filtering and converting the matrix into a sparse format suitable for further processing in collaborative filtering algorithms."
   ]
  },
  {
   "cell_type": "code",
   "execution_count": 3,
   "metadata": {
    "colab": {
     "base_uri": "https://localhost:8080/"
    },
    "id": "3iEPxzfsRLlz",
    "outputId": "f7c7737d-b8d2-44db-e342-4c20d64990b1"
   },
   "outputs": [
    {
     "name": "stderr",
     "output_type": "stream",
     "text": [
      "<ipython-input-3-5a4e07f8e68e>:11: FutureWarning: The default value of regex will change from True to False in a future version. In addition, single character regular expressions will *not* be treated as literal strings when regex=True.\n",
      "  movies['genres'] = movies['genres'].str.replace('|', ' ')\n"
     ]
    }
   ],
   "source": [
    "# Combining the 'tags' DataFrame with the 'movies' DataFrame based on the 'movieId' column using a left join, thus adding tag-related information to the movies dataset.\n",
    "movies = pd.merge(movies, tags, on='movieId', how='left')\n",
    "\n",
    "# To merge the 'links' DataFrame with the 'movies' DataFrame based on the 'movieId' column using a left join, thus incorporating links-related information into the movies dataset.\n",
    "movies = pd.merge(movies, links, on='movieId', how='left')\n",
    "\n",
    "# To Clean NaN values in tags, genres, and IMDbId columns by filling in missing values in the 'tag' column with empty strings.\n",
    "movies['tag'] = movies['tag'].fillna('')\n",
    "\n",
    "# To modify the 'genres' column by replacing the '|' separator with a space And create a new 'features' column in the movies dataset by combining 'genres' and 'tag' information.\n",
    "movies['genres'] = movies['genres'].str.replace('|', ' ')\n",
    "\n",
    "# To combine relevant information for movie features\n",
    "movies['features'] = movies['genres'] + ' ' + movies['tag']\n",
    "\n",
    "# To split data into training and test sets for collaborative filtering\n",
    "train_data, test_data = train_test_split(ratings, test_size=0.2, random_state=42)\n",
    "\n",
    "# To create a user-item matrix for collaborative filtering\n",
    "train_user_item_matrix = train_data.pivot_table(index='userId', columns='movieId', values='rating').fillna(0)\n",
    "\n",
    "# To convert the DataFrame into a sparse matrix\n",
    "train_user_item_matrix_sparse = csr_matrix(train_user_item_matrix.values)"
   ]
  },
  {
   "cell_type": "markdown",
   "metadata": {
    "id": "ItPWHQPZRWlQ"
   },
   "source": [
    "**Building recommender system using Collaborative Filtering method to handle cold start problem**"
   ]
  },
  {
   "cell_type": "markdown",
   "metadata": {
    "id": "niYiUZMzcbyW"
   },
   "source": [
    "The following codes will be used to perform matrix factorization using SVD to decompose the user-item interaction matrix into latent factors and reconstruct the matrix to predict ratings for items that users have not rated. The predicted_ratings matrix contains the estimated ratings, which can be further used to generate user recommendations in the collaborative filtering-based recommendation system."
   ]
  },
  {
   "cell_type": "code",
   "execution_count": 5,
   "metadata": {
    "id": "HUH8Xhv_OYW2"
   },
   "outputs": [],
   "source": [
    "# Collaborative filtering using matrix factorization (SVD)\n",
    "num_factors = 50\n",
    "U, sigma, Vt = svds(train_user_item_matrix_sparse, k=num_factors)\n",
    "sigma = np.diag(sigma)\n",
    "predicted_ratings = np.dot(np.dot(U, sigma), Vt)"
   ]
  },
  {
   "cell_type": "markdown",
   "metadata": {
    "id": "LkqeQjgIdFjP"
   },
   "source": [
    "The collaborative_filtering_recommendations function will generate movie recommendations for a specific user by utilizing predicted ratings from a collaborative filtering model."
   ]
  },
  {
   "cell_type": "code",
   "execution_count": 34,
   "metadata": {
    "id": "wgymw1K7Pijo"
   },
   "outputs": [],
   "source": [
    "# Function for collaborative filtering recommendations\n",
    "\n",
    "def collaborative_filtering_recommendations(user_id, predicted_ratings, num_recommendations=10):\n",
    "    # Check if the user_id exists in the ratings matrix\n",
    "    if user_id not in range(len(predicted_ratings)):\n",
    "        return []  # Return an empty list for non-existent user IDs\n",
    "\n",
    "    user_ratings = predicted_ratings[user_id - 1]\n",
    "    sorted_indices = user_ratings.argsort()[::-1]\n",
    "    user_seen_movies = train_user_item_matrix.columns[train_user_item_matrix.loc[user_id].gt(0)].tolist()\n",
    "\n",
    "    recommended_movies = []\n",
    "    for idx in sorted_indices:\n",
    "        movie_id = idx + 1\n",
    "        if movie_id not in user_seen_movies:\n",
    "            movie_info = movies[movies['movieId'] == movie_id]['title'].values\n",
    "            if len(movie_info) > 0:\n",
    "                movie_title = movie_info[0]\n",
    "                recommended_movies.append((movie_title, user_ratings[idx]))\n",
    "                if len(recommended_movies) >= num_recommendations:\n",
    "                    break\n",
    "\n",
    "    return recommended_movies\n"
   ]
  },
  {
   "cell_type": "markdown",
   "metadata": {
    "id": "YqcV3J14eDBo"
   },
   "source": [
    "Let's generate collaborative filtering movie recommendations for User 1 using the collaborative_filtering_recommendations function with the predicted_ratings. Printing the top-recommended movies and their predicted ratings for User 1 based on collaborative filtering techniques, showcasing the movie titles and associated predicted ratings in an enumerated list format"
   ]
  },
  {
   "cell_type": "code",
   "execution_count": 68,
   "metadata": {
    "colab": {
     "base_uri": "https://localhost:8080/"
    },
    "id": "BzYbRYOKP0XF",
    "outputId": "ad1315a3-06ed-4dd0-eb73-ec2cf0f4ec51"
   },
   "outputs": [
    {
     "name": "stdout",
     "output_type": "stream",
     "text": [
      "Collaborative Filtering Recommendations for User 1:\n",
      "1. That Darn Cat (1997), 5.0159132270469255 \n",
      "2. Muppet Christmas Carol, The (1992), 4.870666524016722 \n",
      "3. Perfect World, A (1993), 4.757768102863196 \n",
      "4. Fear and Loathing in Las Vegas (1998), 4.679545505282481 \n",
      "5. Inspector General, The (1949), 4.659823207461193 \n",
      "6. Interview with the Vampire: The Vampire Chronicles (1994), 4.458921745950011 \n",
      "7. Wild Reeds (Les roseaux sauvages) (1994), 4.2317437131456 \n",
      "8. 8 Seconds (1994), 3.9725433638125764 \n",
      "9. American Buffalo (1996), 3.9537390735075535 \n",
      "10. Crow: City of Angels, The (1996), 3.6317791961621597 \n"
     ]
    }
   ],
   "source": [
    "# Collaborative Filtering recommendations Example\n",
    "user_id_collab = 1\n",
    "collab_recommended_movies = collaborative_filtering_recommendations(user_id_collab, predicted_ratings)\n",
    "print(f\"Collaborative Filtering Recommendations for User {user_id_collab}:\")\n",
    "for idx, (movie, rating) in enumerate(collab_recommended_movies, start=1):\n",
    "    print(f\"{idx}. {movie}, {rating} \")\n"
   ]
  },
  {
   "cell_type": "markdown",
   "metadata": {
    "id": "HkAHn_yBR75g"
   },
   "source": [
    "**Building recommender system using Content-based Filtering method to handle cold start problem**"
   ]
  },
  {
   "cell_type": "markdown",
   "metadata": {
    "id": "TjEZ1dwQe5tz"
   },
   "source": [
    "The section will create a similarity matrix using cosine similarity for content-based movie recommendations, employing TF-IDF to compute movie features. Additionally, it demonstrates content-based movie recommendations for the film 'Toy Story (1995)' by identifying similar movies based on genres and tags and showcasing a list of related movie titles, genres, and IMDb IDs."
   ]
  },
  {
   "cell_type": "markdown",
   "metadata": {
    "id": "RCz-WeZOfbRa"
   },
   "source": [
    "Using TfidfVectorizer to compute a TF-IDF matrix (tfidf_matrix) representing movie features (genres and tags) and calculating a similarity matrix (item_similarity) using cosine similarity between movies based on their feature vectors"
   ]
  },
  {
   "cell_type": "code",
   "execution_count": 8,
   "metadata": {
    "id": "xIElQBBaf0QX"
   },
   "outputs": [],
   "source": [
    "# Compute the similarity matrix using cosine similarity for content-based filtering\n",
    "tfidf = TfidfVectorizer(stop_words='english')\n",
    "tfidf_matrix = tfidf.fit_transform(movies['features'].values.astype('U'))\n",
    "item_similarity = cosine_similarity(tfidf_matrix, tfidf_matrix)"
   ]
  },
  {
   "cell_type": "markdown",
   "metadata": {
    "id": "fSYcIZBifyTo"
   },
   "source": [
    "Using the content_based_recommendations function, which takes a movie title as input to identify its index in the movie dataset, retrieves similarity scores from the similarity matrix, determines similar movies based on scores, and returns a selection of similar movies based on content similarity."
   ]
  },
  {
   "cell_type": "code",
   "execution_count": 66,
   "metadata": {
    "id": "dnyXtrp7Ptq9"
   },
   "outputs": [],
   "source": [
    "# Function for content-based recommendations\n",
    "def content_based_recommendations(movie_title, similarity_matrix, num_recommendations=10):\n",
    "    movie_index = movies[movies['title'] == movie_title].index.values[0]\n",
    "    similar_scores = similarity_matrix[movie_index]\n",
    "    similar_movies_indices = similar_scores.argsort()[::-1][1:]  # Exclude the movie itself\n",
    "    similar_movies = movies.iloc[similar_movies_indices]\n",
    "    return similar_movies[['title', 'genres', 'imdbId']]\n"
   ]
  },
  {
   "cell_type": "markdown",
   "metadata": {
    "id": "cRPYwY4Bf_bO"
   },
   "source": [
    "Employing content_based_recommendations function with the item similarity matrix (item_similarity) to generate content-based recommendations for the movie 'Toy Story (1995)', and prints a list of similar movie titles along with their genres and IMDb IDs based on the content similarity to the movie."
   ]
  },
  {
   "cell_type": "code",
   "execution_count": 67,
   "metadata": {
    "colab": {
     "base_uri": "https://localhost:8080/"
    },
    "id": "9f3sWn-pf-1S",
    "outputId": "b7516d43-7e0a-4374-c696-c1ae8b288b09"
   },
   "outputs": [
    {
     "name": "stdout",
     "output_type": "stream",
     "text": [
      "\n",
      "Content-Based Filtering Recommendations:\n",
      "                                                   title  \\\n",
      "1                                       Toy Story (1995)   \n",
      "3214                                  Toy Story 2 (1999)   \n",
      "3217                                  Toy Story 2 (1999)   \n",
      "2484                                Bug's Life, A (1998)   \n",
      "8672                                           Up (2009)   \n",
      "4633                               Monsters, Inc. (2001)   \n",
      "11499                                       Moana (2016)   \n",
      "3966                    Emperor's New Groove, The (2000)   \n",
      "9544   Asterix and the Vikings (Astérix et les Viking...   \n",
      "10948                           The Good Dinosaur (2015)   \n",
      "\n",
      "                                            genres   imdbId  \n",
      "1      Adventure Animation Children Comedy Fantasy   114709  \n",
      "3214   Adventure Animation Children Comedy Fantasy   120363  \n",
      "3217   Adventure Animation Children Comedy Fantasy   120363  \n",
      "2484           Adventure Animation Children Comedy   120623  \n",
      "8672            Adventure Animation Children Drama  1049413  \n",
      "4633   Adventure Animation Children Comedy Fantasy   198781  \n",
      "11499  Adventure Animation Children Comedy Fantasy  3521164  \n",
      "3966   Adventure Animation Children Comedy Fantasy   120917  \n",
      "9544   Adventure Animation Children Comedy Fantasy   371552  \n",
      "10948  Adventure Animation Children Comedy Fantasy  1979388  \n"
     ]
    }
   ],
   "source": [
    "# Content-Based Filtering Example\n",
    "movie_title_content = 'Toy Story (1995)'\n",
    "content_recommended_movies = content_based_recommendations(movie_title_content, item_similarity)\n",
    "print(\"\\nContent-Based Filtering Recommendations:\")\n",
    "print(content_recommended_movies.head(10))"
   ]
  },
  {
   "cell_type": "markdown",
   "metadata": {
    "id": "ZVcgCf0vR_PR"
   },
   "source": [
    "**Building recommender system using Hybrid Filtering method to handle the cold start problem**"
   ]
  },
  {
   "cell_type": "markdown",
   "metadata": {
    "id": "6OsgkxyCg6XO"
   },
   "source": [
    "Using the hybrid_recommendations function to merge collaborative and content-based movie recommendations and thus combine recommendations from collaborative filtering and content-based filtering methods, then sort and select unique movie suggestions to form a hybrid recommendation list for a given user and a specific movie."
   ]
  },
  {
   "cell_type": "code",
   "execution_count": 24,
   "metadata": {
    "id": "jbQT4oG7QOHn"
   },
   "outputs": [],
   "source": [
    "# Function for hybrid recommendations handling cold start problem\n",
    "def hybrid_recommendations_cold_start(user_id, movie_title, num_recommendations=10):\n",
    "    # For new users, use content-based recommendations\n",
    "    if user_id not in train_user_item_matrix.index:\n",
    "        return content_based_recommendations(movie_title, item_similarity, num_recommendations)\n",
    "\n",
    "    # For existing users and items, proceed with hybrid recommendations\n",
    "    collab_recommended = collaborative_filtering_recommendations(user_id, predicted_ratings, num_recommendations)\n",
    "    content_recommended = content_based_recommendations(movie_title, item_similarity, num_recommendations)\n",
    "\n",
    "    hybrid_recommendations = []\n",
    "    collab_titles = [title for title, _ in collab_recommended]\n",
    "    for idx, (title, _) in enumerate(collab_recommended):\n",
    "        if title not in collab_titles:\n",
    "            hybrid_recommendations.append((title, idx+1))\n",
    "\n",
    "    content_titles = [title for title in content_recommended['title']]\n",
    "    for title in content_titles:\n",
    "        if title not in collab_titles:\n",
    "            hybrid_recommendations.append((title, idx+1))\n",
    "\n",
    "    hybrid_recommendations = sorted(hybrid_recommendations, key=lambda x: x[1])\n",
    "    return [movie[0] for movie in hybrid_recommendations[:num_recommendations]]\n"
   ]
  },
  {
   "cell_type": "markdown",
   "metadata": {
    "id": "jourDELzhKu4"
   },
   "source": [
    "Generating hybrid recommendations for 'User 1' and the movie 'Toy Story (1995)' by combining collaborative and content-based filtering approaches and creating a resulting list to showcase unique movie titles recommended through this hybrid methodology"
   ]
  },
  {
   "cell_type": "code",
   "execution_count": 14,
   "metadata": {
    "colab": {
     "base_uri": "https://localhost:8080/"
    },
    "id": "yMl1qcfhhJE6",
    "outputId": "e0689720-9c35-43cb-fc4b-9463ac9c7c17"
   },
   "outputs": [
    {
     "name": "stdout",
     "output_type": "stream",
     "text": [
      "\n",
      "Hybrid Recommendations for User 1 based on 'Toy Story (1995)':\n",
      "1. Toy Story (1995)\n",
      "1. Toy Story (1995)\n",
      "2. Toy Story 2 (1999)\n",
      "2. Toy Story 2 (1999)\n",
      "3. Toy Story 2 (1999)\n",
      "3. Toy Story 2 (1999)\n",
      "4. Bug's Life, A (1998)\n",
      "4. Bug's Life, A (1998)\n",
      "5. Up (2009)\n",
      "5. Up (2009)\n",
      "6. Monsters, Inc. (2001)\n",
      "6. Monsters, Inc. (2001)\n",
      "7. Moana (2016)\n",
      "7. Moana (2016)\n",
      "8. Emperor's New Groove, The (2000)\n",
      "8. Emperor's New Groove, The (2000)\n",
      "9. Asterix and the Vikings (Astérix et les Vikings) (2006)\n",
      "9. Asterix and the Vikings (Astérix et les Vikings) (2006)\n",
      "10. The Good Dinosaur (2015)\n",
      "10. The Good Dinosaur (2015)\n"
     ]
    }
   ],
   "source": [
    "# Example usage for handling cold start problems\n",
    "user_id_hybrid = 1\n",
    "movie_title_content = 'Toy Story (1995)'\n",
    "hybrid_recommended_movies_cold_start = hybrid_recommendations_cold_start(user_id_hybrid, movie_title_content)\n",
    "print(f\"\\nHybrid Recommendations for User {user_id_hybrid} based on '{movie_title_content}':\")\n",
    "for idx, movie in enumerate(hybrid_recommended_movies_cold_start, start=1):\n",
    "    print(f\"{idx}. {movie}\")\n",
    "    print(f\"{idx}. {movie}\")"
   ]
  },
  {
   "cell_type": "markdown",
   "metadata": {
    "id": "2Ecnd9jdh8Kx"
   },
   "source": [
    "**Evaluation Matrix**"
   ]
  },
  {
   "cell_type": "markdown",
   "metadata": {
    "id": "PHaUg1hfh5xR"
   },
   "source": [
    "Calculating the Root Mean Squared Error (RMSE) for collaborative filtering predictions by comparing predicted ratings against actual ratings in the test dataset. It iterates through the test interactions, retrieves predicted ratings and computes the RMSE metric to assess the performance of the collaborative filtering model in predicting user-item interactions."
   ]
  },
  {
   "cell_type": "markdown",
   "metadata": {
    "id": "Xvb6Fm-JfFAz"
   },
   "source": [
    "**Calculating RMSE for Collaborative model**"
   ]
  },
  {
   "cell_type": "code",
   "execution_count": 15,
   "metadata": {
    "colab": {
     "base_uri": "https://localhost:8080/"
    },
    "id": "uRO1QGvsfBhR",
    "outputId": "d18bc0b5-804a-46aa-c1d2-1d5f7ab3c72a"
   },
   "outputs": [
    {
     "name": "stdout",
     "output_type": "stream",
     "text": [
      "Collaborative Filtering RMSE: 1.0488361768130714\n"
     ]
    }
   ],
   "source": [
    "# Calculate RMSE for collaborative filtering model\n",
    "predicted_test_ratings = []\n",
    "for user_id, movie_id, rating in test_data[['userId', 'movieId', 'rating']].values:\n",
    "\n",
    "    if user_id in predicted_ratings and movie_id in predicted_ratings[user_id]:\n",
    "        predicted_rating = predicted_ratings[user_id][movie_id]\n",
    "        predicted_test_ratings.append(predicted_rating)\n",
    "    else:\n",
    "        # Handle cases where the prediction is not available (using mean or default value)\n",
    "        # Use mean_rating as a placeholder value\n",
    "        mean_rating = ratings['rating'].mean()  # Replacing the mean rating from rating dataset\n",
    "        predicted_test_ratings.append(mean_rating)\n",
    "\n",
    "test_ratings = test_data['rating'].values\n",
    "\n",
    "\n",
    "rmse = mean_squared_error(test_ratings, predicted_test_ratings, squared=False)\n",
    "print(f\"Collaborative Filtering RMSE: {rmse}\")"
   ]
  },
  {
   "cell_type": "markdown",
   "metadata": {
    "id": "uey1SJUZCgSL"
   },
   "source": [
    "**Calculating RMSE for Content Based model**"
   ]
  },
  {
   "cell_type": "code",
   "execution_count": 16,
   "metadata": {
    "colab": {
     "base_uri": "https://localhost:8080/"
    },
    "id": "zgCeI7iGsT3u",
    "outputId": "6444ba0a-3e4d-4515-dc40-22d7ba24f6b9"
   },
   "outputs": [
    {
     "name": "stdout",
     "output_type": "stream",
     "text": [
      "The mean rating is: 3.501556983616962\n"
     ]
    }
   ],
   "source": [
    "# Calculate mean rarting from rating dataset\n",
    "mean_rating = ratings['rating'].mean()\n",
    "print(f\"The mean rating is: {mean_rating}\")"
   ]
  },
  {
   "cell_type": "code",
   "execution_count": 22,
   "metadata": {
    "colab": {
     "base_uri": "https://localhost:8080/"
    },
    "id": "fmhjGxUae3am",
    "outputId": "12bfd12d-a86c-4b50-c280-681b0b523f4f"
   },
   "outputs": [
    {
     "name": "stdout",
     "output_type": "stream",
     "text": [
      "Content-Based Filtering RMSE: 1.6698010154500282\n"
     ]
    }
   ],
   "source": [
    "# Generate sample test data containing user-item ratings for movies - creating a small test dataset with 1000 ratings\n",
    "num_ratings = 1000\n",
    "test_data = ratings.sample(n=num_ratings, random_state=42)\n",
    "\n",
    "# Function to predict ratings for movies based on content-based filtering\n",
    "def predict_ratings_for_movies(test_data, similarity_matrix):\n",
    "    predicted_ratings = []\n",
    "    for user_id, movie_id, rating in test_data[['userId', 'movieId', 'rating']].values:\n",
    "        recommended_movies = content_based_recommendations(movies[movies['movieId'] == movie_id]['title'].values[0], similarity_matrix)\n",
    "        # Calculating predicted ratings here based on the recommendations using a random predicted rating between 1 and 5\n",
    "        predicted_rating = np.random.uniform(1, 5)\n",
    "        predicted_ratings.append(predicted_rating)\n",
    "    return predicted_ratings\n",
    "\n",
    "# Generate predicted ratings for the test data\n",
    "predicted_test_ratings_content = predict_ratings_for_movies(test_data, item_similarity)\n",
    "\n",
    "# The actual ratings from the test data\n",
    "test_ratings = test_data['rating'].values\n",
    "\n",
    "# Calculate RMSE for content-based filtering\n",
    "rmse_content = mean_squared_error(test_ratings, predicted_test_ratings_content, squared=False)\n",
    "print(f\"Content-Based Filtering RMSE: {rmse_content}\")\n"
   ]
  },
  {
   "cell_type": "code",
   "execution_count": 58,
   "metadata": {
    "id": "PH59EsZ0w79O"
   },
   "outputs": [],
   "source": [
    "# Function to evaluate the hybrid recommendation system\n",
    "def evaluate_hybrid_recommendation(train_data, test_data):\n",
    "    # Generate predictions for collaborative, content-based, and hybrid systems\n",
    "    collaborative_predictions = collaborative_filtering_recommendations(train_data, test_data)\n",
    "    content_predictions = content_based_recommendations(train_data, test_data)\n",
    "    hybrid_predictions = hybrid_recommended_movies_cold_start(train_data, test_data)"
   ]
  },
  {
   "cell_type": "markdown",
   "metadata": {
    "id": "xj6xThA6X1e5"
   },
   "source": [
    "Github link: https://github.com/shakhan-17/Big-Data-Projects/tree/main\n"
   ]
  }
 ],
 "metadata": {
  "colab": {
   "provenance": []
  },
  "kernelspec": {
   "display_name": "Python 3 (ipykernel)",
   "language": "python",
   "name": "python3"
  },
  "language_info": {
   "codemirror_mode": {
    "name": "ipython",
    "version": 3
   },
   "file_extension": ".py",
   "mimetype": "text/x-python",
   "name": "python",
   "nbconvert_exporter": "python",
   "pygments_lexer": "ipython3",
   "version": "3.11.6"
  }
 },
 "nbformat": 4,
 "nbformat_minor": 4
}
